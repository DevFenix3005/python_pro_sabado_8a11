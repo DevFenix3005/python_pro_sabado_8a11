{
  "nbformat": 4,
  "nbformat_minor": 0,
  "metadata": {
    "colab": {
      "provenance": [],
      "include_colab_link": true
    },
    "kernelspec": {
      "name": "python3",
      "display_name": "Python 3"
    },
    "language_info": {
      "name": "python"
    }
  },
  "cells": [
    {
      "cell_type": "markdown",
      "metadata": {
        "id": "view-in-github",
        "colab_type": "text"
      },
      "source": [
        "<a href=\"https://colab.research.google.com/github/DevFenix3005/python_pro_sabado_8a11/blob/main/CursoPython_13.ipynb\" target=\"_parent\"><img src=\"https://colab.research.google.com/assets/colab-badge.svg\" alt=\"Open In Colab\"/></a>"
      ]
    },
    {
      "cell_type": "code",
      "execution_count": null,
      "metadata": {
        "id": "ZHs8Brm6lvHe"
      },
      "outputs": [],
      "source": [
        "#Escribe el codigo de manera manual\n",
        "#def function(parametr1, parametr2):\n",
        "# multiplication = parametr1 * parametr2\n",
        "# while parametr1 != 0 and parametr2 != 0:\n",
        "#   if parametr > parametr2:\n",
        "#     parametr1 = parametr1 % parametr2\n",
        "#   else:\n",
        "#     parametr2 = parametr2 % parametr1\n",
        "# print(multiplication // (parametr1 + parametr2))\n",
        "#function(85, 45)"
      ]
    },
    {
      "cell_type": "code",
      "source": [
        "#Se está realizando un juego entre equipos siguiendo estas reglas: cada equipo tiene tres miembros,\n",
        "#cada uno de ellos es evaluado independientemente y recibe puntos por ello. Al final del juego,\n",
        "#se suman todos los puntos obtenidos por los jugadores y se calcula la media aritmética, esta se usa para determinar el puntaje total de cada equipo."
      ],
      "metadata": {
        "id": "Sc_qI75Uma8x"
      },
      "execution_count": null,
      "outputs": []
    },
    {
      "cell_type": "code",
      "source": [
        "#Denis decidió crear un chat bot que le ayude a resolver problemas matemáticos. A modo de prueba,\n",
        "#decidió utilizar una función para comparar dos números. Ayudémosle a escribirla.\n",
        "#El programa solicita ingresar dos números y los traslada a la función como parámetros.\n",
        "#Completa el código definiendo la función more. Si a > b, la función debe mostrar la cadena \"a es mayor que b\".\n",
        "#Si a < b, la función debe mostrar la cadena \"a es menor que b\". Si a == b, la función debe imprimir la cadena \"a es igual a b\"."
      ],
      "metadata": {
        "id": "KdTgER57mu8C"
      },
      "execution_count": null,
      "outputs": []
    },
    {
      "cell_type": "code",
      "source": [
        "#Un grupo de turistas decidió realizar una excursión. Dibujaron una línea en el mapa que sería el camino que seguirían.\n",
        "#Raúl quiere unirse al grupo en el punto (x, y). Determina si el punto se encuentra sobre la ruta marcada o no.\n",
        "#El programa registra el ingreso de dos números, x e y, cada uno en una nueva cadena, las coordenadas del punto en el que Raúl quiere\n",
        "#unirse al grupo y el llamado de la función. Debes añadir al código: una función que compruebe si el punto forma parte de la línea púrpura,\n",
        "#en caso que sí, debe mostrar el mensaje \"¡Acertó!\" De otro modo, debe mostrar \"¡Falló!\""
      ],
      "metadata": {
        "id": "sC7Vhyu-m-OU"
      },
      "execution_count": null,
      "outputs": []
    },
    {
      "cell_type": "code",
      "source": [
        "#Se están realizando ejercicios navales en el océano. En la carta de navegación, se ha elegido un recuadro en donde se realizará un disparo.\n",
        "#Antes de lanzar el proyectil, es necesario comprobar si caerá en el área deseada.\n",
        "#El programa registra el ingreso de dos números, x e y, las coordenadas del punto, y también incluye el llamado de la función.\n",
        "#Debes añadir al código: una función que compruebe si el punto de impacto se encuentra dentro del recuadro asignado (teniendo en cuenta los límites).\n",
        "#En caso que sí, se debe mostrar \"¡Impactó!\" De otro modo, se debe mostrar \"¡Falló!\""
      ],
      "metadata": {
        "id": "weL7C24UnN9X"
      },
      "execution_count": null,
      "outputs": []
    },
    {
      "cell_type": "code",
      "source": [
        "#Se utilizan dos números para la geolocalización de un barco: x grados latitud e y grados longitud. Estos números forman las coordenadas de\n",
        "#un punto en el mapa. Ayudemos a los marineros y simplifiquemos la tarea de calcular la distancia entre dos puntos.\n",
        "#El programa registra el ingreso de cuatro números (x1, y1, x2, y2) y también incluye el llamado de la función. Debes añadir al código:\n",
        "#una función que calcule la distancia entre dos puntos y muestre la respuesta en la pantalla."
      ],
      "metadata": {
        "id": "QAkB2Ycsnbt_"
      },
      "execution_count": null,
      "outputs": []
    },
    {
      "cell_type": "code",
      "source": [
        "#Hay un programa concurso de televisión llamado \"¡Lo sé todo!\" Los participantes responden preguntas y obtienen puntos por sus respuestas correctas.\n",
        "#Al final del juego, los resultados se ingresan en una cadena, separados por comas, en el siguiente formato: nombre-puntaje.\n",
        "#Escribe dos funciones: la primera debe encontrar todos los números de la cadena, escribirlos en una lista y mostrarlos en la pantalla.\n",
        "#El segundo debe encontrar el número mayor en la lista y mostrarlo en el formato \"Puntaje máximo = (número)\""
      ],
      "metadata": {
        "id": "lIzSV7rFnmz-"
      },
      "execution_count": null,
      "outputs": []
    }
  ]
}