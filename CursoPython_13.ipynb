{
  "nbformat": 4,
  "nbformat_minor": 0,
  "metadata": {
    "colab": {
      "provenance": [],
      "include_colab_link": true
    },
    "kernelspec": {
      "name": "python3",
      "display_name": "Python 3"
    },
    "language_info": {
      "name": "python"
    }
  },
  "cells": [
    {
      "cell_type": "markdown",
      "metadata": {
        "id": "view-in-github",
        "colab_type": "text"
      },
      "source": [
        "<a href=\"https://colab.research.google.com/github/DevFenix3005/python_pro_sabado_8a11/blob/main/CursoPython_13.ipynb\" target=\"_parent\"><img src=\"https://colab.research.google.com/assets/colab-badge.svg\" alt=\"Open In Colab\"/></a>"
      ]
    },
    {
      "cell_type": "code",
      "execution_count": null,
      "metadata": {
        "id": "ZHs8Brm6lvHe"
      },
      "outputs": [],
      "source": [
        "#Escribe el codigo de manera manual\n",
        "#def function(parametr1, parametr2):\n",
        "# multiplication = parametr1 * parametr2\n",
        "# while parametr1 != 0 and parametr2 != 0:\n",
        "#   if parametr > parametr2:\n",
        "#     parametr1 = parametr1 % parametr2\n",
        "#   else:\n",
        "#     parametr2 = parametr2 % parametr1\n",
        "# print(multiplication // (parametr1 + parametr2))\n",
        "#function(85, 45)"
      ]
    },
    {
      "cell_type": "code",
      "source": [
        "#Se está realizando un juego entre equipos siguiendo estas reglas: cada equipo tiene tres miembros,\n",
        "#cada uno de ellos es evaluado independientemente y recibe puntos por ello. Al final del juego,\n",
        "#se suman todos los puntos obtenidos por los jugadores y se calcula la media aritmética, esta se usa para determinar el puntaje total de cada equipo.\n",
        "def evaluacion_equipo(calificacion_1, calificacion_2, calificacion_3):\n",
        "  promedio = (calificacion_1 + calificacion_2 + calificacion_3) / 3\n",
        "  print(f\"El promedio de este equipo es de {promedio}\")\n",
        "\n",
        "evaluacion_equipo(8,9,8)\n",
        "evaluacion_equipo(7,10,5)\n"
      ],
      "metadata": {
        "id": "Sc_qI75Uma8x",
        "outputId": "f99d50f4-259d-4aab-ffa7-1092c2e7f9a2",
        "colab": {
          "base_uri": "https://localhost:8080/"
        }
      },
      "execution_count": 1,
      "outputs": [
        {
          "output_type": "stream",
          "name": "stdout",
          "text": [
            "El promedio de este equipo es de 8.333333333333334\n",
            "El promedio de este equipo es de 7.333333333333333\n"
          ]
        }
      ]
    },
    {
      "cell_type": "code",
      "source": [
        "#Denis decidió crear un chat bot que le ayude a resolver problemas matemáticos. A modo de prueba,\n",
        "#decidió utilizar una función para comparar dos números. Ayudémosle a escribirla.\n",
        "#El programa solicita ingresar dos números y los traslada a la función como parámetros.\n",
        "#Completa el código definiendo la función more. Si a > b, la función debe mostrar la cadena \"a es mayor que b\".\n",
        "#Si a < b, la función debe mostrar la cadena \"a es menor que b\". Si a == b, la función debe imprimir la cadena \"a es igual a b\".\n",
        "def more(a,b):\n",
        "  if a > b:\n",
        "    print(\"a es mayor que b\")\n",
        "\n",
        "  if a < b:\n",
        "    print(\"a es menor que b\")\n",
        "\n",
        "  if a == b:\n",
        "    print(\"a es igual a b\")\n",
        "\n",
        "more(1,5)\n",
        "more(17,5)\n",
        "more(8,8)\n"
      ],
      "metadata": {
        "id": "KdTgER57mu8C",
        "outputId": "749e4d07-7e16-4dcb-f7fa-f5672bf72a48",
        "colab": {
          "base_uri": "https://localhost:8080/"
        }
      },
      "execution_count": 2,
      "outputs": [
        {
          "output_type": "stream",
          "name": "stdout",
          "text": [
            "a es menor que b\n",
            "a es mayor que b\n",
            "a es igual a b\n"
          ]
        }
      ]
    },
    {
      "cell_type": "code",
      "source": [
        "#Un grupo de turistas decidió realizar una excursión. Dibujaron una línea en el mapa que sería el camino que seguirían.\n",
        "#Raúl quiere unirse al grupo en el punto (x, y). Determina si el punto se encuentra sobre la ruta marcada o no.\n",
        "#El programa registra el ingreso de dos números, x e y, cada uno en una nueva cadena, las coordenadas del punto en el que Raúl quiere\n",
        "#unirse al grupo y el llamado de la función. Debes añadir al código: una función que compruebe si el punto forma parte de la línea púrpura,\n",
        "#en caso que sí, debe mostrar el mensaje \"¡Acertó!\" De otro modo, debe mostrar \"¡Falló!\"\n",
        "puntos_en_ruta = [\n",
        "    {\"x\":2, \"y\":4},\n",
        "    {\"x\":4, \"y\":6},\n",
        "    {\"x\":6, \"y\":8},\n",
        "    {\"x\":8, \"y\":10},\n",
        "    {\"x\":10, \"y\":12},\n",
        "]\n",
        "\n",
        "def recibir_coordenadas():\n",
        "  x = int(input(\"Dame la coordenada en X: \"))\n",
        "  y = int(input(\"Dame la coordenada en Y: \"))\n",
        "  for punto in puntos_en_ruta:\n",
        "    ruta_x = punto[\"x\"]\n",
        "    ruta_y =  punto[\"y\"]\n",
        "    if x == ruta_x and y == ruta_y:\n",
        "      print(\"¡Acertó!\")\n",
        "      break\n",
        "    else:\n",
        "      print(\"¡Falló!\")\n",
        "\n",
        "recibir_coordenadas()\n",
        "\n"
      ],
      "metadata": {
        "id": "sC7Vhyu-m-OU",
        "outputId": "e3ebea83-0b0d-49d4-cbb5-fa253f58c62c",
        "colab": {
          "base_uri": "https://localhost:8080/"
        }
      },
      "execution_count": 5,
      "outputs": [
        {
          "output_type": "stream",
          "name": "stdout",
          "text": [
            "Dame la coordenada en X4\n",
            "Dame la coordenada en Y6\n",
            "{'x': 2, 'y': 4}\n",
            "¡Falló!\n",
            "{'x': 4, 'y': 6}\n",
            "¡Acertó!\n"
          ]
        }
      ]
    },
    {
      "cell_type": "code",
      "source": [
        "#Se están realizando ejercicios navales en el océano. En la carta de navegación, se ha elegido un recuadro en donde se realizará un disparo.\n",
        "#Antes de lanzar el proyectil, es necesario comprobar si caerá en el área deseada.\n",
        "#El programa registra el ingreso de dos números, x e y, las coordenadas del punto, y también incluye el llamado de la función.\n",
        "#Debes añadir al código: una función que compruebe si el punto de impacto se encuentra dentro del recuadro asignado (teniendo en cuenta los límites).\n",
        "#En caso que sí, se debe mostrar \"¡Impactó!\" De otro modo, se debe mostrar \"¡Falló!\"\n",
        "#\n",
        "#  . . . .\n",
        "#  . . . .\n",
        "#  . . . .\n",
        "#\n",
        "#\n",
        "#\n",
        "enemigo = [\n",
        "    {\"x\":0, \"y\":0},\n",
        "    {\"x\":0, \"y\":1},\n",
        "    {\"x\":0, \"y\":2},\n",
        "    {\"x\":1, \"y\":0},\n",
        "    {\"x\":1, \"y\":1},\n",
        "    {\"x\":1, \"y\":2},\n",
        "    {\"x\":2, \"y\":0},\n",
        "    {\"x\":2, \"y\":1},\n",
        "    {\"x\":2, \"y\":2},\n",
        "    {\"x\":3, \"y\":0},\n",
        "    {\"x\":3, \"y\":1},\n",
        "    {\"x\":3, \"y\":2},\n",
        "]\n",
        "\n",
        "def recibir_coordenadas():\n",
        "  punto_x = int(input(\"Dame la coordenada en X: \"))\n",
        "  punto_y = int(input(\"Dame la coordenada en Y: \"))\n",
        "  mi_punto = dict(x=punto_x,y=punto_y)\n",
        "  if mi_punto in enemigo:\n",
        "    print(\"¡Impactó!\")\n",
        "  else:\n",
        "    print(\"¡Falló!\")\n",
        "\n",
        "recibir_coordenadas()\n",
        "\n"
      ],
      "metadata": {
        "id": "weL7C24UnN9X",
        "outputId": "9f3e1b01-a320-4c82-a9c6-713845f90b7b",
        "colab": {
          "base_uri": "https://localhost:8080/"
        }
      },
      "execution_count": 9,
      "outputs": [
        {
          "output_type": "stream",
          "name": "stdout",
          "text": [
            "Dame la coordenada en X: 10\n",
            "Dame la coordenada en Y: 10\n",
            "¡Falló!\n"
          ]
        }
      ]
    },
    {
      "cell_type": "code",
      "source": [
        "#Se utilizan dos números para la geolocalización de un barco: x grados latitud e y grados longitud. Estos números forman las coordenadas de\n",
        "#un punto en el mapa. Ayudemos a los marineros y simplifiquemos la tarea de calcular la distancia entre dos puntos.\n",
        "#El programa registra el ingreso de cuatro números (x1, y1, x2, y2) y también incluye el llamado de la función. Debes añadir al código:\n",
        "#una función que calcule la distancia entre dos puntos y muestre la respuesta en la pantalla.\n",
        "# d = √((x₂ - x₁)² + (y₂ - y₁)²)\n",
        "\n",
        "def calcular_distancia(x1, y1, x2, y2):\n",
        "  distancia = ((x2 - x1)**2 + (y2 - y1)**2)\n",
        "  distancia = distancia ** 0.5\n",
        "  print(f\"La distancia entre mis puntos es: {distancia}\")\n",
        "\n",
        "calcular_distancia(0,0,0,10)\n",
        "calcular_distancia(0,0,10,10)\n",
        "calcular_distancia(0,0,5,10)\n",
        "\n",
        "\n"
      ],
      "metadata": {
        "id": "QAkB2Ycsnbt_",
        "outputId": "bf3ed74d-bf98-4706-cb1c-5239728d0fec",
        "colab": {
          "base_uri": "https://localhost:8080/"
        }
      },
      "execution_count": 12,
      "outputs": [
        {
          "output_type": "stream",
          "name": "stdout",
          "text": [
            "La distancia entre mis puntos es: 10.0\n",
            "La distancia entre mis puntos es: 14.142135623730951\n",
            "La distancia entre mis puntos es: 11.180339887498949\n"
          ]
        }
      ]
    },
    {
      "cell_type": "code",
      "source": [
        "#Hay un programa concurso de televisión llamado \"¡Lo sé todo!\" Los participantes responden preguntas y obtienen puntos por sus respuestas correctas.\n",
        "#Al final del juego, los resultados se ingresan en una cadena, separados por comas, en el siguiente formato: nombre-puntaje.\n",
        "#Escribe dos funciones: la primera debe encontrar todos los números de la cadena, escribirlos en una lista y mostrarlos en la pantalla.\n",
        "#El segundo debe encontrar el número mayor en la lista y mostrarlo en el formato \"Puntaje máximo = (número)\"\n",
        "\n",
        "def obtener_pujate_maximo(lista_puntajes):\n",
        "  valor_maximo = 0\n",
        "  for x in lista_puntajes:\n",
        "    if valor_maximo < x:\n",
        "      valor_maximo = x\n",
        "  print(f\"El valor maximo es de: {valor_maximo}\")\n",
        "\n",
        "def generar_lista():\n",
        "  lista_puntajes = []\n",
        "  for _ in range(2):\n",
        "    entrada = input(\"Dame tu nombre y puntaje\")\n",
        "    puntaje = entrada.split(\"-\")[1]\n",
        "    lista_puntajes.append(int(puntaje))\n",
        "  print(lista_puntajes)\n",
        "  obtener_pujate_maximo(lista_puntajes)\n",
        "\n",
        "generar_lista()\n",
        "\n",
        "\n",
        "\n"
      ],
      "metadata": {
        "id": "lIzSV7rFnmz-",
        "outputId": "e9bfa5a3-ef28-4f52-e4c3-62ff649c8dbd",
        "colab": {
          "base_uri": "https://localhost:8080/"
        }
      },
      "execution_count": 18,
      "outputs": [
        {
          "output_type": "stream",
          "name": "stdout",
          "text": [
            "Dame tu nombre y puntajeRoberto-10\n",
            "Dame tu nombre y puntajeHugo-5\n",
            "[10, 5]\n",
            "El valor maximo es de: 10\n"
          ]
        }
      ]
    }
  ]
}